{
 "cells": [
  {
   "cell_type": "code",
   "execution_count": 121,
   "metadata": {},
   "outputs": [],
   "source": [
    "#Justin Garzione\n",
    "#MIT License\n",
    "#Cluster Validation Measures - Normalized Mutual Information (NMI) and Jaccard similarity"
   ]
  },
  {
   "cell_type": "code",
   "execution_count": 122,
   "metadata": {},
   "outputs": [],
   "source": [
    "import math"
   ]
  },
  {
   "cell_type": "code",
   "execution_count": 123,
   "metadata": {},
   "outputs": [],
   "source": [
    "#DEBUGGING MODULE\n",
    "\n",
    "#Input 21\n",
    "a = open(\"input1.txt\", \"r\")\n",
    "a1 = open(\"output1.txt\", \"r\")\n",
    "\n",
    "#Input 22\n",
    "b = open(\"input2.txt\", \"r\")\n",
    "b1 = open(\"output2.txt\", \"r\")"
   ]
  },
  {
   "cell_type": "code",
   "execution_count": 124,
   "metadata": {},
   "outputs": [],
   "source": [
    "def import_data(data):\n",
    "    ground_truth = list()\n",
    "    predicted_label = list()\n",
    "    count = 0\n",
    "    for line in data:\n",
    "        count += 1\n",
    "        listt = list(map(int,line.strip('\\n').split(' ')))\n",
    "        ground_truth.append(listt[0])\n",
    "        predicted_label.append(listt[1])\n",
    "    return(ground_truth,predicted_label)"
   ]
  },
  {
   "cell_type": "code",
   "execution_count": 125,
   "metadata": {},
   "outputs": [],
   "source": [
    "def perform_NMI(ground_truth,predicted_label):\n",
    "    \n",
    "    partition_prob_dict= dict()\n",
    "    cluster_prob_dict = dict()\n",
    "    joint_prob_dict = dict()\n",
    "    denominator = len(ground_truth)\n",
    "    \n",
    "    for element in range(len(ground_truth)):\n",
    "        if ground_truth[element] in partition_prob_dict:\n",
    "            partition_prob_dict[ground_truth[element]] += 1 / denominator\n",
    "        \n",
    "        else:\n",
    "            partition_prob_dict[ground_truth[element]] = 1 / denominator\n",
    "            \n",
    "        if predicted_label[element] in cluster_prob_dict:\n",
    "            cluster_prob_dict[predicted_label[element]] += 1 /denominator\n",
    "\n",
    "        else:\n",
    "            cluster_prob_dict[predicted_label[element]] = 1 / denominator\n",
    "        \n",
    "        if (ground_truth[element],predicted_label[element]) in joint_prob_dict:\n",
    "            joint_prob_dict[(ground_truth[element],predicted_label[element])] += 1 / denominator\n",
    "        \n",
    "        else:\n",
    "            joint_prob_dict[(ground_truth[element],predicted_label[element])] = 1 / denominator\n",
    "    \n",
    "    return(partition_prob_dict, cluster_prob_dict, joint_prob_dict,denominator)"
   ]
  },
  {
   "cell_type": "code",
   "execution_count": 126,
   "metadata": {},
   "outputs": [],
   "source": [
    "def perform_Jaccard(TP,FN,FP):\n",
    "        return(TP/(TP+FN+FP))"
   ]
  },
  {
   "cell_type": "code",
   "execution_count": 127,
   "metadata": {},
   "outputs": [],
   "source": [
    "def find_pairs(ground_truth, predicted_label):\n",
    "    TP = 0\n",
    "    TN = 0\n",
    "    FP = 0\n",
    "    FN = 0\n",
    "\n",
    "    for pair in range(0,len(ground_truth)):\n",
    "        y_i = ground_truth[pair]\n",
    "        y_hat_i = predicted_label[pair]\n",
    "        for second in range(pair+1,len(ground_truth)):\n",
    "            y_j = ground_truth[second]\n",
    "            y_hat_j = predicted_label[second]\n",
    "            \n",
    "            if y_i == y_j and y_hat_i == y_hat_j:\n",
    "                TP += 1\n",
    "            \n",
    "            if y_i == y_j and y_hat_i != y_hat_j:\n",
    "                FN += 1\n",
    "            \n",
    "            if y_i != y_j and y_hat_i == y_hat_j:\n",
    "                FP += 1\n",
    "            \n",
    "            if y_i != y_j and y_hat_i != y_hat_j:\n",
    "                TN += 1\n",
    "    return(TP,TN,FP,FN)"
   ]
  },
  {
   "cell_type": "code",
   "execution_count": 128,
   "metadata": {},
   "outputs": [],
   "source": [
    "def new_funct(partition_dictionary,cluster_dictionary,joint_dictionary,denom):\n",
    "    \n",
    "    I_YC = 0.0\n",
    "    H_C = 0.0\n",
    "    H_Y = 0.0\n",
    "    for point in joint_dictionary.keys():\n",
    "        intersection_prob = joint_dictionary.get(point)\n",
    "        partition_prob = partition_dictionary.get(point[0])\n",
    "        cluster_prob = cluster_dictionary.get(point[1])\n",
    "        I_YC += intersection_prob * math.log(intersection_prob/(partition_prob*cluster_prob),10)\n",
    "    \n",
    "    for element1 in cluster_dictionary.keys():\n",
    "        H_C += cluster_dictionary.get(element1) * math.log(cluster_dictionary.get(element1),10)\n",
    "        \n",
    "    for element in partition_dictionary.keys():\n",
    "        H_Y += partition_dictionary.get(element) * math.log(partition_dictionary.get(element),10)\n",
    "    \n",
    "    \n",
    "    NMI = I_YC / math.sqrt(-H_Y * -H_C)\n",
    "    return NMI"
   ]
  },
  {
   "cell_type": "code",
   "execution_count": 129,
   "metadata": {},
   "outputs": [],
   "source": [
    "def read_vals(data):\n",
    "    ret_list = list()\n",
    "    for line in data:\n",
    "        ret_list.append(line.rsplit())\n",
    "    return ret_list"
   ]
  },
  {
   "cell_type": "code",
   "execution_count": 130,
   "metadata": {},
   "outputs": [
    {
     "name": "stdout",
     "output_type": "stream",
     "text": [
      "CPU times: user 9 µs, sys: 2 µs, total: 11 µs\n",
      "Wall time: 16 µs\n"
     ]
    }
   ],
   "source": [
    "%%time\n",
    "def main(): \n",
    "    ground_truth, predicted_label = import_data(b) #MODIFY ARG\n",
    "    TP,TN,FP,FN = find_pairs(ground_truth,predicted_label)\n",
    "    jaccard = perform_Jaccard(TP,FN,FP)\n",
    "    part_dict,clust_dict,joint_dict,denom = perform_NMI(ground_truth,predicted_label)\n",
    "    NMI = new_funct(part_dict,clust_dict,joint_dict,denom)\n",
    "    vals = read_vals(b1) #MODIFY ARG\n",
    "    \n",
    "    print(f\"Model Returned NMI: {'{0:.{1}f}'.format(NMI, 3)} and Jaccard:{'{0:.{1}f}'.format(jaccard, 3)}\")\n",
    "    print(f\"Valid Returned: NMI: {vals[0][0]} and Jaccard: {vals[0][1]}\")"
   ]
  },
  {
   "cell_type": "code",
   "execution_count": 131,
   "metadata": {},
   "outputs": [
    {
     "name": "stdout",
     "output_type": "stream",
     "text": [
      "Model Returned NMI: 0.849 and Jaccard:0.877\n",
      "Valid Returned: NMI: 0.849 and Jaccard: 0.877\n"
     ]
    }
   ],
   "source": [
    "main()"
   ]
  }
 ],
 "metadata": {
  "kernelspec": {
   "display_name": "Python 3",
   "language": "python",
   "name": "python3"
  },
  "language_info": {
   "codemirror_mode": {
    "name": "ipython",
    "version": 3
   },
   "file_extension": ".py",
   "mimetype": "text/x-python",
   "name": "python",
   "nbconvert_exporter": "python",
   "pygments_lexer": "ipython3",
   "version": "3.8.5"
  }
 },
 "nbformat": 4,
 "nbformat_minor": 4
}
